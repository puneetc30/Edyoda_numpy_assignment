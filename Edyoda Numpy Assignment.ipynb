{
 "cells": [
  {
   "cell_type": "markdown",
   "id": "1aef0f3f",
   "metadata": {},
   "source": [
    "# Edyoda Numpy Assignment"
   ]
  },
  {
   "cell_type": "markdown",
   "id": "d130ab55",
   "metadata": {},
   "source": [
    "\n",
    "\n",
    "## 1. Create a null vector of size 10 but the fifth value which is 1."
   ]
  },
  {
   "cell_type": "code",
   "execution_count": 1,
   "id": "c0f450f3",
   "metadata": {},
   "outputs": [],
   "source": [
    "import numpy as np"
   ]
  },
  {
   "cell_type": "code",
   "execution_count": 2,
   "id": "06883d37",
   "metadata": {},
   "outputs": [],
   "source": [
    "arr1 = np.zeros(10)"
   ]
  },
  {
   "cell_type": "code",
   "execution_count": 4,
   "id": "acac0f89",
   "metadata": {},
   "outputs": [],
   "source": [
    "arr1[4] = 1"
   ]
  },
  {
   "cell_type": "code",
   "execution_count": 5,
   "id": "f81b70b9",
   "metadata": {},
   "outputs": [
    {
     "data": {
      "text/plain": [
       "array([0., 0., 0., 0., 1., 0., 0., 0., 0., 0.])"
      ]
     },
     "execution_count": 5,
     "metadata": {},
     "output_type": "execute_result"
    }
   ],
   "source": [
    "arr1"
   ]
  },
  {
   "cell_type": "markdown",
   "id": "751ed58d",
   "metadata": {},
   "source": [
    "## 2. Create a vector with values ranging from 10 to 49."
   ]
  },
  {
   "cell_type": "code",
   "execution_count": 6,
   "id": "4b0f1d0d",
   "metadata": {},
   "outputs": [],
   "source": [
    "arr2 = np.arange(10,50)"
   ]
  },
  {
   "cell_type": "code",
   "execution_count": 7,
   "id": "b98fe801",
   "metadata": {},
   "outputs": [
    {
     "data": {
      "text/plain": [
       "array([10, 11, 12, 13, 14, 15, 16, 17, 18, 19, 20, 21, 22, 23, 24, 25, 26,\n",
       "       27, 28, 29, 30, 31, 32, 33, 34, 35, 36, 37, 38, 39, 40, 41, 42, 43,\n",
       "       44, 45, 46, 47, 48, 49])"
      ]
     },
     "execution_count": 7,
     "metadata": {},
     "output_type": "execute_result"
    }
   ],
   "source": [
    "arr2"
   ]
  },
  {
   "cell_type": "markdown",
   "id": "e4f19848",
   "metadata": {},
   "source": [
    "## 3. Create a 3x3 matrix with values ranging from 0 to 8"
   ]
  },
  {
   "cell_type": "code",
   "execution_count": 10,
   "id": "6cc6fc89",
   "metadata": {},
   "outputs": [],
   "source": [
    "arr3 = np.arange(9).reshape(3,3)"
   ]
  },
  {
   "cell_type": "code",
   "execution_count": 11,
   "id": "baa971a6",
   "metadata": {},
   "outputs": [
    {
     "data": {
      "text/plain": [
       "array([[0, 1, 2],\n",
       "       [3, 4, 5],\n",
       "       [6, 7, 8]])"
      ]
     },
     "execution_count": 11,
     "metadata": {},
     "output_type": "execute_result"
    }
   ],
   "source": [
    "arr3"
   ]
  },
  {
   "cell_type": "markdown",
   "id": "de7cf648",
   "metadata": {},
   "source": [
    "## 4. Find indices of non-zero elements from [1,2,0,0,4,0]"
   ]
  },
  {
   "cell_type": "code",
   "execution_count": 13,
   "id": "852b0625",
   "metadata": {},
   "outputs": [],
   "source": [
    "arr4 = np.array([1,2,0,0,4,0])"
   ]
  },
  {
   "cell_type": "code",
   "execution_count": 16,
   "id": "4d2fffde",
   "metadata": {},
   "outputs": [
    {
     "data": {
      "text/plain": [
       "(array([0, 1, 4], dtype=int64),)"
      ]
     },
     "execution_count": 16,
     "metadata": {},
     "output_type": "execute_result"
    }
   ],
   "source": [
    "np.where(arr4!=0)"
   ]
  },
  {
   "cell_type": "markdown",
   "id": "a62d352f",
   "metadata": {},
   "source": [
    "## 5. Create a 10x10 array with random values and find the minimum and maximum values."
   ]
  },
  {
   "cell_type": "code",
   "execution_count": 40,
   "id": "6449489d",
   "metadata": {},
   "outputs": [],
   "source": [
    "arr5 = np.random.randn(10,10)"
   ]
  },
  {
   "cell_type": "code",
   "execution_count": 41,
   "id": "aa795f2d",
   "metadata": {},
   "outputs": [
    {
     "data": {
      "text/plain": [
       "array([[ 0.20237013,  1.27743212, -0.46245043, -0.89662649, -1.48478095,\n",
       "         0.04914478, -0.67453579, -0.62337108,  0.5116595 ,  0.22497013],\n",
       "       [ 0.74911126,  0.47071164,  1.74024312, -0.16205602,  1.21973126,\n",
       "         0.77294551,  1.54168586, -0.22794722, -1.06995425, -1.26979836],\n",
       "       [ 1.37662039, -1.03325542, -0.37669673,  0.88002582, -1.2255286 ,\n",
       "        -0.83247848,  0.38922963, -1.28465977,  1.43469556, -0.04206161],\n",
       "       [ 1.50828512,  1.22247653, -0.52776776,  0.44093558, -0.39143957,\n",
       "         0.52772302, -2.70711374, -0.1753984 ,  0.80761761,  1.02822281],\n",
       "       [ 0.30378555,  0.4504977 , -0.22861054,  0.36947899,  0.53620662,\n",
       "         0.54033074, -1.17320979, -1.58324829, -0.1218207 , -0.60530057],\n",
       "       [-0.49494133, -0.29361033, -0.00753193, -2.04138205,  0.72876006,\n",
       "         0.73647621, -0.25087129, -0.35860838, -1.50115313, -1.08084324],\n",
       "       [-0.66304831,  1.54793153,  0.35281024,  0.25747955,  1.04755693,\n",
       "         1.37273625,  0.29551706, -0.02528104, -0.3623586 ,  2.15973027],\n",
       "       [ 0.46698276, -0.0401172 ,  0.88461726,  0.10331492,  0.03845362,\n",
       "         1.43013394,  1.6862007 , -0.54725504, -0.18288424, -0.64736557],\n",
       "       [ 0.62807316, -0.33215896,  0.28136246, -0.33372451, -0.48252507,\n",
       "        -0.83635417,  2.38505385, -0.07316689, -0.11281181, -1.24397931],\n",
       "       [ 0.95986174, -0.3995194 , -0.72454308, -0.83515748, -0.38327196,\n",
       "        -1.42012526, -0.01748975,  0.27514027,  1.16070209, -0.15261498]])"
      ]
     },
     "execution_count": 41,
     "metadata": {},
     "output_type": "execute_result"
    }
   ],
   "source": [
    "arr5"
   ]
  },
  {
   "cell_type": "code",
   "execution_count": 42,
   "id": "f66aaf31",
   "metadata": {},
   "outputs": [
    {
     "data": {
      "text/plain": [
       "2.3850538453500465"
      ]
     },
     "execution_count": 42,
     "metadata": {},
     "output_type": "execute_result"
    }
   ],
   "source": [
    "arr5.max()"
   ]
  },
  {
   "cell_type": "code",
   "execution_count": 43,
   "id": "7bf079ad",
   "metadata": {},
   "outputs": [
    {
     "data": {
      "text/plain": [
       "-2.7071137389959716"
      ]
     },
     "execution_count": 43,
     "metadata": {},
     "output_type": "execute_result"
    }
   ],
   "source": [
    "arr5.min()"
   ]
  },
  {
   "cell_type": "markdown",
   "id": "5517e6aa",
   "metadata": {},
   "source": [
    "## 6. Create a random vector of size 30 and find the mean value."
   ]
  },
  {
   "cell_type": "code",
   "execution_count": 48,
   "id": "772feeba",
   "metadata": {},
   "outputs": [],
   "source": [
    "arr6 = np.random.rand(30)"
   ]
  },
  {
   "cell_type": "code",
   "execution_count": 52,
   "id": "99374bf1",
   "metadata": {},
   "outputs": [
    {
     "data": {
      "text/plain": [
       "array([0.70940308, 0.91430385, 0.56173323, 0.07365674, 0.63862881,\n",
       "       0.06268806, 0.66613036, 0.68448365, 0.24249413, 0.66335683,\n",
       "       0.18505822, 0.07208583, 0.99556876, 0.26277295, 0.06046027,\n",
       "       0.59320412, 0.42994854, 0.10971065, 0.12138683, 0.40040679,\n",
       "       0.14308965, 0.10696613, 0.81872777, 0.30100035, 0.27952649,\n",
       "       0.89882049, 0.63388505, 0.51658186, 0.95038829, 0.59967726])"
      ]
     },
     "execution_count": 52,
     "metadata": {},
     "output_type": "execute_result"
    }
   ],
   "source": [
    "arr6"
   ]
  },
  {
   "cell_type": "code",
   "execution_count": 51,
   "id": "aff74d80",
   "metadata": {},
   "outputs": [
    {
     "data": {
      "text/plain": [
       "0.4565381672956033"
      ]
     },
     "execution_count": 51,
     "metadata": {},
     "output_type": "execute_result"
    }
   ],
   "source": [
    "arr6.mean()"
   ]
  },
  {
   "cell_type": "code",
   "execution_count": null,
   "id": "39c0bf3e",
   "metadata": {},
   "outputs": [],
   "source": []
  }
 ],
 "metadata": {
  "kernelspec": {
   "display_name": "Python 3 (ipykernel)",
   "language": "python",
   "name": "python3"
  },
  "language_info": {
   "codemirror_mode": {
    "name": "ipython",
    "version": 3
   },
   "file_extension": ".py",
   "mimetype": "text/x-python",
   "name": "python",
   "nbconvert_exporter": "python",
   "pygments_lexer": "ipython3",
   "version": "3.10.4"
  }
 },
 "nbformat": 4,
 "nbformat_minor": 5
}
